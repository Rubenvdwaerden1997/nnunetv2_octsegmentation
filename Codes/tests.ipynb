{
 "cells": [
  {
   "cell_type": "code",
   "execution_count": 5,
   "metadata": {},
   "outputs": [
    {
     "name": "stdout",
     "output_type": "stream",
     "text": [
      "Processing file: W:\\rubenvdw\\Dataset\\Segmentations_1024\\EST-NEMC-0027-RCx_HPNV.nii.gz\n",
      "Resized segmentation saved to W:\\rubenvdw\\Dataset\\Segmentations_1024\\EST-NEMC-0027-RCx_HPNV_704.nii.gz\n",
      "Processing file: W:\\rubenvdw\\Dataset\\Segmentations_1024\\NLD-ISALA-0076_HPNV.nii.gz\n",
      "Resized segmentation saved to W:\\rubenvdw\\Dataset\\Segmentations_1024\\NLD-ISALA-0076_HPNV_704.nii.gz\n",
      "Processing file: W:\\rubenvdw\\Dataset\\Segmentations_1024\\NLD-ISALA-0079_HPNV.nii.gz\n",
      "Resized segmentation saved to W:\\rubenvdw\\Dataset\\Segmentations_1024\\NLD-ISALA-0079_HPNV_704.nii.gz\n",
      "Processing file: W:\\rubenvdw\\Dataset\\Segmentations_1024\\NLD-ISALA-0084_HPNV.nii.gz\n",
      "Resized segmentation saved to W:\\rubenvdw\\Dataset\\Segmentations_1024\\NLD-ISALA-0084_HPNV_704.nii.gz\n",
      "Processing file: W:\\rubenvdw\\Dataset\\Segmentations_1024\\NLD-ISALA-0086_HPNV.nii.gz\n",
      "Resized segmentation saved to W:\\rubenvdw\\Dataset\\Segmentations_1024\\NLD-ISALA-0086_HPNV_704.nii.gz\n",
      "Processing file: W:\\rubenvdw\\Dataset\\Segmentations_1024\\NLD-ISALA-0090_HPNV.nii.gz\n",
      "Resized segmentation saved to W:\\rubenvdw\\Dataset\\Segmentations_1024\\NLD-ISALA-0090_HPNV_704.nii.gz\n",
      "Processing file: W:\\rubenvdw\\Dataset\\Segmentations_1024\\NLD-ISALA-0093_HPNV.nii.gz\n",
      "Resized segmentation saved to W:\\rubenvdw\\Dataset\\Segmentations_1024\\NLD-ISALA-0093_HPNV_704.nii.gz\n",
      "Processing file: W:\\rubenvdw\\Dataset\\Segmentations_1024\\NLD-ISALA-0097_HPNV.nii.gz\n",
      "Resized segmentation saved to W:\\rubenvdw\\Dataset\\Segmentations_1024\\NLD-ISALA-0097_HPNV_704.nii.gz\n"
     ]
    }
   ],
   "source": [
    "import SimpleITK as sitk\n",
    "import numpy as np\n",
    "import os\n",
    "\n",
    "def resize_segmentation_3d(raw_segmentation, new_shape=(704, 704)):\n",
    "    \"\"\"Resize a complete 3D segmentation volume from 1024x1024 to new shape (704, 704), preserving the depth.\n",
    "\n",
    "    Args:\n",
    "        raw_segmentation (np.array): 3D segmentation (shape: [num_slices, height, width]).\n",
    "        new_shape (tuple, optional): Target shape (default is (704, 704)).\n",
    "\n",
    "    Returns:\n",
    "        np.array: Resized 3D segmentation (shape: [num_slices, 704, 704]).\n",
    "    \"\"\"\n",
    "    # Convert numpy array to SimpleITK image\n",
    "    seg_image = sitk.GetImageFromArray(raw_segmentation)\n",
    "\n",
    "    # Get original spacing\n",
    "    original_spacing = seg_image.GetSpacing()\n",
    "\n",
    "    # Compute new spacing to preserve the depth (Z dimension stays the same)\n",
    "    new_spacing = (\n",
    "        original_spacing[0] * raw_segmentation.shape[2] / new_shape[0],  # Adjust X spacing\n",
    "        original_spacing[1] * raw_segmentation.shape[1] / new_shape[1],  # Adjust Y spacing\n",
    "        original_spacing[2]  # Z spacing stays the same\n",
    "    )\n",
    "\n",
    "    # Set up resampler\n",
    "    resampler = sitk.ResampleImageFilter()\n",
    "    resampler.SetSize((new_shape[0], new_shape[1], raw_segmentation.shape[0]))  # (width, height, depth)\n",
    "    resampler.SetInterpolator(sitk.sitkNearestNeighbor)  # Nearest neighbor for segmentation\n",
    "    resampler.SetOutputSpacing(new_spacing)\n",
    "\n",
    "    # Apply resampling\n",
    "    resampled_seg = resampler.Execute(seg_image)\n",
    "\n",
    "    # Convert back to numpy array\n",
    "    resampled_seg_array = sitk.GetArrayFromImage(resampled_seg)  # (num_slices, 704, 704)\n",
    "\n",
    "    return resampled_seg_array\n",
    "\n",
    "def save_resized_segmentation(resized_segmentation, output_path):\n",
    "    \"\"\"Save the resized segmentation as a NIfTI file.\n",
    "\n",
    "    Args:\n",
    "        resized_segmentation (np.array): Resized 3D segmentation array.\n",
    "        output_path (str): Path to save the output NIfTI file.\n",
    "    \"\"\"\n",
    "    # Convert numpy array to SimpleITK image\n",
    "    seg_image = sitk.GetImageFromArray(resized_segmentation)\n",
    "\n",
    "    # Save to NIfTI format\n",
    "    sitk.WriteImage(seg_image, output_path)\n",
    "    print(f\"Resized segmentation saved to {output_path}\")\n",
    "\n",
    "# Example usage:\n",
    "# Load your segmentation data (make sure it's a 3D numpy array)\n",
    "folder=r'W:\\rubenvdw\\Dataset\\Segmentations_1024'\n",
    "for file_name in os.listdir(folder):\n",
    "    if file_name.endswith('.nii.gz'):  # Check if the file is a .nii.gz file\n",
    "        file_path = os.path.join(folder, file_name)\n",
    "        print(f\"Processing file: {file_path}\")\n",
    "        \n",
    "        # Read the segmentation file\n",
    "        raw_segmentation = sitk.GetArrayFromImage(sitk.ReadImage(file_path))\n",
    "\n",
    "        resized_segmentation = resize_segmentation_3d(raw_segmentation, new_shape=(704, 704))\n",
    "        \n",
    "        # Save the resized segmentation with '704' added to the filename\n",
    "        output_file_name = file_name.replace('.nii.gz', '_704.nii.gz')\n",
    "        output_path = os.path.join(folder, output_file_name)\n",
    "        \n",
    "        save_resized_segmentation(resized_segmentation, output_path)"
   ]
  },
  {
   "cell_type": "code",
   "execution_count": 3,
   "metadata": {},
   "outputs": [
    {
     "name": "stdout",
     "output_type": "stream",
     "text": [
      "Shape of image 1: (704, 704, 7)\n",
      "Shape of image 2: (704, 704, 1)\n",
      "Shape of image 1: (704, 704, 1)\n",
      "Shape of image 2: (704, 704, 1)\n"
     ]
    }
   ],
   "source": [
    "import nibabel as nib\n",
    "import numpy as np\n",
    "\n",
    "# Load the images\n",
    "image1_path = 'Z:\\\\rubenvdw\\\\nnunetv2\\\\nnUNet\\\\nnunetv2\\\\Data\\\\nnUNet_raw\\\\Dataset501\\\\imagesTr\\\\ESTNEMC0013_1_frame0_198_0000.nii'\n",
    "image2_path = 'Z:\\\\rubenvdw\\\\nnunetv2\\\\nnUNet\\\\nnunetv2\\\\Data\\\\nnUNet_raw\\\\Dataset905_SegmentOCT3d3\\\\imagesTr\\\\ESTNEMC0013_1_frame0_198_0000.nii.gz'\n",
    "label1_path = 'Z:\\\\rubenvdw\\\\nnunetv2\\\\nnUNet\\\\nnunetv2\\\\Data\\\\nnUNet_raw\\\\Dataset501\\\\labelsTr\\\\ESTNEMC0013_1_frame0_198.nii'\n",
    "label2_path = 'Z:\\\\rubenvdw\\\\nnunetv2\\\\nnUNet\\\\nnunetv2\\\\Data\\\\nnUNet_raw\\\\Dataset905_SegmentOCT3d3\\\\labelsTr\\\\ESTNEMC0013_1_frame0_198.nii.gz'\n",
    "\n",
    "image1 = nib.load(image1_path)\n",
    "image2 = nib.load(image2_path)\n",
    "\n",
    "# Convert images to numpy arrays\n",
    "image1_array = image1.get_fdata()\n",
    "image2_array = image2.get_fdata()\n",
    "\n",
    "label1 = nib.load(label1_path)\n",
    "label2 = nib.load(label2_path)\n",
    "\n",
    "# Convert images to numpy arrays\n",
    "label1_array = label1.get_fdata()\n",
    "label2_array = label2.get_fdata()\n",
    "\n",
    "# Print the shapes of the images\n",
    "print(\"Shape of image 1:\", image1_array.shape)\n",
    "print(\"Shape of image 2:\", image2_array.shape)\n",
    "\n",
    "print(\"Shape of image 1:\", label1_array.shape)\n",
    "print(\"Shape of image 2:\", label2_array.shape)"
   ]
  },
  {
   "cell_type": "code",
   "execution_count": 5,
   "metadata": {},
   "outputs": [
    {
     "name": "stdout",
     "output_type": "stream",
     "text": [
      "(15, 1, 704, 704)\n"
     ]
    }
   ],
   "source": [
    "import pickle\n",
    "import numpy as np\n",
    "\n",
    "# Path to the pickle file\n",
    "pickle_file_path = 'Z:\\\\rubenvdw\\\\nnunetv2\\\\nnUNet\\\\nnunetv2\\\\Predictions\\\\Dataset905_SegmentOCT3d3\\\\Predicted_files\\\\NLDRADB0089_1_frame520_132.pkl'\n",
    "# Path to the npz file\n",
    "npz_file_path = pickle_file_path.replace('.pkl', '.npz')\n",
    "\n",
    "# Load the npz file\n",
    "npz_data = np.load(npz_file_path)\n",
    "\n",
    "# Print the loaded data\n",
    "print(npz_data['probabilities'].shape)"
   ]
  },
  {
   "cell_type": "code",
   "execution_count": null,
   "metadata": {},
   "outputs": [],
   "source": []
  }
 ],
 "metadata": {
  "kernelspec": {
   "display_name": "Python 3",
   "language": "python",
   "name": "python3"
  },
  "language_info": {
   "codemirror_mode": {
    "name": "ipython",
    "version": 3
   },
   "file_extension": ".py",
   "mimetype": "text/x-python",
   "name": "python",
   "nbconvert_exporter": "python",
   "pygments_lexer": "ipython3",
   "version": "3.11.4"
  }
 },
 "nbformat": 4,
 "nbformat_minor": 2
}
