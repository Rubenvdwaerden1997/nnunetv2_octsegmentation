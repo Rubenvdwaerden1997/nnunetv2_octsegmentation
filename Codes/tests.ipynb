{
 "cells": [
  {
   "cell_type": "code",
   "execution_count": 3,
   "metadata": {},
   "outputs": [
    {
     "name": "stdout",
     "output_type": "stream",
     "text": [
      "Shape of image 1: (704, 704, 7)\n",
      "Shape of image 2: (704, 704, 1)\n",
      "Shape of image 1: (704, 704, 1)\n",
      "Shape of image 2: (704, 704, 1)\n"
     ]
    }
   ],
   "source": [
    "import nibabel as nib\n",
    "import numpy as np\n",
    "\n",
    "# Load the images\n",
    "image1_path = 'Z:\\\\rubenvdw\\\\nnunetv2\\\\nnUNet\\\\nnunetv2\\\\Data\\\\nnUNet_raw\\\\Dataset501\\\\imagesTr\\\\ESTNEMC0013_1_frame0_198_0000.nii'\n",
    "image2_path = 'Z:\\\\rubenvdw\\\\nnunetv2\\\\nnUNet\\\\nnunetv2\\\\Data\\\\nnUNet_raw\\\\Dataset905_SegmentOCT3d3\\\\imagesTr\\\\ESTNEMC0013_1_frame0_198_0000.nii.gz'\n",
    "label1_path = 'Z:\\\\rubenvdw\\\\nnunetv2\\\\nnUNet\\\\nnunetv2\\\\Data\\\\nnUNet_raw\\\\Dataset501\\\\labelsTr\\\\ESTNEMC0013_1_frame0_198.nii'\n",
    "label2_path = 'Z:\\\\rubenvdw\\\\nnunetv2\\\\nnUNet\\\\nnunetv2\\\\Data\\\\nnUNet_raw\\\\Dataset905_SegmentOCT3d3\\\\labelsTr\\\\ESTNEMC0013_1_frame0_198.nii.gz'\n",
    "\n",
    "image1 = nib.load(image1_path)\n",
    "image2 = nib.load(image2_path)\n",
    "\n",
    "# Convert images to numpy arrays\n",
    "image1_array = image1.get_fdata()\n",
    "image2_array = image2.get_fdata()\n",
    "\n",
    "label1 = nib.load(label1_path)\n",
    "label2 = nib.load(label2_path)\n",
    "\n",
    "# Convert images to numpy arrays\n",
    "label1_array = label1.get_fdata()\n",
    "label2_array = label2.get_fdata()\n",
    "\n",
    "# Print the shapes of the images\n",
    "print(\"Shape of image 1:\", image1_array.shape)\n",
    "print(\"Shape of image 2:\", image2_array.shape)\n",
    "\n",
    "print(\"Shape of image 1:\", label1_array.shape)\n",
    "print(\"Shape of image 2:\", label2_array.shape)"
   ]
  }
 ],
 "metadata": {
  "kernelspec": {
   "display_name": "Python 3",
   "language": "python",
   "name": "python3"
  },
  "language_info": {
   "codemirror_mode": {
    "name": "ipython",
    "version": 3
   },
   "file_extension": ".py",
   "mimetype": "text/x-python",
   "name": "python",
   "nbconvert_exporter": "python",
   "pygments_lexer": "ipython3",
   "version": "3.11.4"
  }
 },
 "nbformat": 4,
 "nbformat_minor": 2
}
